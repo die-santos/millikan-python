{
 "cells": [
  {
   "cell_type": "markdown",
   "metadata": {},
   "source": [
    "# Análise de dados do experimento da gota de Millikan\n",
    "## Diego Santos de Jesus, Julio Francisco da Silva\n",
    "## Roberto Colistete Jr., Thiago Ferreira Santos"
   ]
  },
  {
   "cell_type": "markdown",
   "metadata": {},
   "source": [
    "## Inicialização do Python (módulos math e uncertainties)"
   ]
  },
  {
   "cell_type": "markdown",
   "metadata": {},
   "source": [
    "Carregando definições e funções matemáticas :"
   ]
  },
  {
   "cell_type": "code",
   "execution_count": 1,
   "metadata": {},
   "outputs": [],
   "source": [
    "import math"
   ]
  },
  {
   "cell_type": "markdown",
   "metadata": {},
   "source": [
    "Carregando o [módulo Python Uncertainties](https://pythonhosted.org/uncertainties/ \"site 'Welcome to the uncertainties package'\"), que calcula a propagação de incertezas :"
   ]
  },
  {
   "cell_type": "code",
   "execution_count": 2,
   "metadata": {},
   "outputs": [],
   "source": [
    "from uncertainties import *"
   ]
  },
  {
   "cell_type": "code",
   "execution_count": 3,
   "metadata": {},
   "outputs": [],
   "source": [
    "from uncertainties.umath import *"
   ]
  },
  {
   "cell_type": "markdown",
   "metadata": {},
   "source": [
    "## Definição de parâmetros e fórmulas com incertezas"
   ]
  },
  {
   "cell_type": "markdown",
   "metadata": {},
   "source": [
    "Use a função \"ufloat\" para definir números reais com incertezas ('u' de uncertainties, 'float' de número de ponto flutuante) :"
   ]
  },
  {
   "cell_type": "markdown",
   "metadata": {},
   "source": [
    "Distância $d = (2,50 \\pm 0,01)mm$ entre as placas do capacitor :"
   ]
  },
  {
   "cell_type": "code",
   "execution_count": 4,
   "metadata": {},
   "outputs": [
    {
     "data": {
      "text/plain": [
       "0.0025+/-1e-05"
      ]
     },
     "execution_count": 4,
     "metadata": {},
     "output_type": "execute_result"
    }
   ],
   "source": [
    "d = ufloat(0.00250,0.00001); d"
   ]
  },
  {
   "cell_type": "markdown",
   "metadata": {},
   "source": [
    "Gravidade local $g = (9,80 \\pm 0,02)m/s^2$ :"
   ]
  },
  {
   "cell_type": "code",
   "execution_count": 5,
   "metadata": {},
   "outputs": [
    {
     "data": {
      "text/plain": [
       "9.8+/-0.02"
      ]
     },
     "execution_count": 5,
     "metadata": {},
     "output_type": "execute_result"
    }
   ],
   "source": [
    "g = ufloat(9.80,0.02); g"
   ]
  },
  {
   "cell_type": "markdown",
   "metadata": {},
   "source": [
    "Densidade do óleo de silicone, $\\rho_1 = (1,03 \\pm 0,01) \\times 10^3 \\, kg/m^3$ :"
   ]
  },
  {
   "cell_type": "code",
   "execution_count": 6,
   "metadata": {},
   "outputs": [
    {
     "data": {
      "text/plain": [
       "1030.0+/-10.0"
      ]
     },
     "execution_count": 6,
     "metadata": {},
     "output_type": "execute_result"
    }
   ],
   "source": [
    "rho1 = ufloat(1.03e3,0.01e3); rho1"
   ]
  },
  {
   "cell_type": "markdown",
   "metadata": {},
   "source": [
    "Densidade do ar, $\\rho_2 = (1,136 \\pm 0,035) kg/m^3$ :"
   ]
  },
  {
   "cell_type": "code",
   "execution_count": 7,
   "metadata": {},
   "outputs": [
    {
     "data": {
      "text/plain": [
       "1.136+/-0.035"
      ]
     },
     "execution_count": 7,
     "metadata": {},
     "output_type": "execute_result"
    }
   ],
   "source": [
    "rho2 = ufloat(1.136,0.035); rho2"
   ]
  },
  {
   "cell_type": "markdown",
   "metadata": {},
   "source": [
    "Viscosidade do ar $\\eta = (1,82 \\pm 0,01) \\times 10^{-5} kg/(m \\times s)$ :"
   ]
  },
  {
   "cell_type": "code",
   "execution_count": 8,
   "metadata": {},
   "outputs": [
    {
     "data": {
      "text/plain": [
       "1.82e-05+/-1e-07"
      ]
     },
     "execution_count": 8,
     "metadata": {},
     "output_type": "execute_result"
    }
   ],
   "source": [
    "eta = ufloat(1.82e-5,0.01e-5); eta"
   ]
  },
  {
   "cell_type": "markdown",
   "metadata": {},
   "source": [
    "Definição de $C_1 = \\frac{9}{2}\\pi\\,d \\sqrt{\\frac{\\eta^3}{g (\\rho_1-\\rho_2)}}$ e $C_2 = \\frac{3}{2} \\sqrt{\\frac{\\eta}{g (\\rho_1-\\rho_2)}}$ :"
   ]
  },
  {
   "cell_type": "code",
   "execution_count": 9,
   "metadata": {},
   "outputs": [
    {
     "data": {
      "text/plain": [
       "2.7328604371038394e-11+/-2.847754201158333e-13"
      ]
     },
     "execution_count": 9,
     "metadata": {},
     "output_type": "execute_result"
    }
   ],
   "source": [
    "C1 = (9/2)*math.pi*d*sqrt(eta**3/(g*(rho1-rho2))); C1"
   ]
  },
  {
   "cell_type": "code",
   "execution_count": 10,
   "metadata": {},
   "outputs": [
    {
     "data": {
      "text/plain": [
       "6.372868092972218e-05+/-3.6166171672657163e-07"
      ]
     },
     "execution_count": 10,
     "metadata": {},
     "output_type": "execute_result"
    }
   ],
   "source": [
    "C2 = (3/2)*sqrt(eta/(g*(rho1-rho2))); C2"
   ]
  },
  {
   "cell_type": "markdown",
   "metadata": {},
   "source": [
    "Distância de subida $s_1 = (4,45 \\pm 0,05) \\times 10^{-3} m$ :"
   ]
  },
  {
   "cell_type": "code",
   "execution_count": 11,
   "metadata": {},
   "outputs": [
    {
     "data": {
      "text/plain": [
       "0.00445+/-5e-05"
      ]
     },
     "execution_count": 11,
     "metadata": {},
     "output_type": "execute_result"
    }
   ],
   "source": [
    "s1 = ufloat(4.45e-3,0.05e-3); s1"
   ]
  },
  {
   "cell_type": "markdown",
   "metadata": {},
   "source": [
    "Tempo de subida $t_1 = (9,6 \\pm 0,5) s$ :"
   ]
  },
  {
   "cell_type": "code",
   "execution_count": 12,
   "metadata": {},
   "outputs": [
    {
     "data": {
      "text/plain": [
       "9.6+/-0.5"
      ]
     },
     "execution_count": 12,
     "metadata": {},
     "output_type": "execute_result"
    }
   ],
   "source": [
    "t1 = ufloat(9.6,0.5); t1"
   ]
  },
  {
   "cell_type": "markdown",
   "metadata": {},
   "source": [
    "Velocidade $v_1 = s_1/t_1$ :"
   ]
  },
  {
   "cell_type": "code",
   "execution_count": 13,
   "metadata": {},
   "outputs": [
    {
     "data": {
      "text/plain": [
       "0.0004635416666666667+/-2.469820425110838e-05"
      ]
     },
     "execution_count": 13,
     "metadata": {},
     "output_type": "execute_result"
    }
   ],
   "source": [
    "v1 = s1/t1; v1"
   ]
  },
  {
   "cell_type": "markdown",
   "metadata": {},
   "source": [
    "Distância de descida $s_2 = (4,45 \\pm 0,05) \\times 10^{-3} m$ :"
   ]
  },
  {
   "cell_type": "code",
   "execution_count": 14,
   "metadata": {},
   "outputs": [
    {
     "data": {
      "text/plain": [
       "0.00445+/-5e-05"
      ]
     },
     "execution_count": 14,
     "metadata": {},
     "output_type": "execute_result"
    }
   ],
   "source": [
    "s2 = ufloat(4.45e-3,0.05e-3); s2"
   ]
  },
  {
   "cell_type": "markdown",
   "metadata": {},
   "source": [
    "Tempo de descida $t_2 = (13,5 \\pm 0,5) s$ :"
   ]
  },
  {
   "cell_type": "code",
   "execution_count": 15,
   "metadata": {},
   "outputs": [
    {
     "data": {
      "text/plain": [
       "13.5+/-0.5"
      ]
     },
     "execution_count": 15,
     "metadata": {},
     "output_type": "execute_result"
    }
   ],
   "source": [
    "t2 = ufloat(13.5,0.5); t2"
   ]
  },
  {
   "cell_type": "markdown",
   "metadata": {},
   "source": [
    "Velocidade $v_2 = s_2/t_2$ :"
   ]
  },
  {
   "cell_type": "code",
   "execution_count": 16,
   "metadata": {},
   "outputs": [
    {
     "data": {
      "text/plain": [
       "0.00032962962962962964+/-1.2757939120533797e-05"
      ]
     },
     "execution_count": 16,
     "metadata": {},
     "output_type": "execute_result"
    }
   ],
   "source": [
    "v2 = s2/t2; v2"
   ]
  },
  {
   "cell_type": "markdown",
   "metadata": {},
   "source": [
    "Raio da gotícula, $r = C_2\\sqrt{v_1-v_2}$ :"
   ]
  },
  {
   "cell_type": "code",
   "execution_count": 17,
   "metadata": {},
   "outputs": [
    {
     "data": {
      "text/plain": [
       "7.374706446142939e-07+/-7.665974826695964e-08"
      ]
     },
     "execution_count": 17,
     "metadata": {},
     "output_type": "execute_result"
    }
   ],
   "source": [
    "r = C2*sqrt(v1-v2); r"
   ]
  },
  {
   "cell_type": "markdown",
   "metadata": {},
   "source": [
    "Tensão elétrica $U = (300 \\pm 5) V$ :"
   ]
  },
  {
   "cell_type": "code",
   "execution_count": 18,
   "metadata": {},
   "outputs": [
    {
     "data": {
      "text/plain": [
       "300.0+/-5.0"
      ]
     },
     "execution_count": 18,
     "metadata": {},
     "output_type": "execute_result"
    }
   ],
   "source": [
    "U = ufloat(300.,5); U"
   ]
  },
  {
   "cell_type": "markdown",
   "metadata": {},
   "source": [
    "Carga elétrica da gotícula, $Q = C_1\\frac{v1+v2}{U}\\sqrt{v_1-v_2}$ :"
   ]
  },
  {
   "cell_type": "code",
   "execution_count": 19,
   "metadata": {},
   "outputs": [
    {
     "data": {
      "text/plain": [
       "8.361284412269444e-19+/-1.077232584030391e-19"
      ]
     },
     "execution_count": 19,
     "metadata": {},
     "output_type": "execute_result"
    }
   ],
   "source": [
    "Q = C1*((v1+v2)/U)*sqrt(v1-v2); Q"
   ]
  },
  {
   "cell_type": "markdown",
   "metadata": {},
   "source": [
    "## Propagação de incertezas para um vetor/lista de valores"
   ]
  },
  {
   "cell_type": "markdown",
   "metadata": {},
   "source": [
    "Carregando o [sub-módulo unumpy do módulo Uncertainties](https://pythonhosted.org/uncertainties/numpy_guide.html \"Uncertainties in arrays\") para lidar com vetor/lista de valores com incertezas :"
   ]
  },
  {
   "cell_type": "code",
   "execution_count": 20,
   "metadata": {},
   "outputs": [],
   "source": [
    "from uncertainties import unumpy"
   ]
  },
  {
   "cell_type": "markdown",
   "metadata": {},
   "source": [
    "Usa-se unumpy.uarray para criar lista de valores com incertezas, com uma lista dos valores nominais (exatos) seguida de uma lista de incertezas :"
   ]
  },
  {
   "cell_type": "code",
   "execution_count": 21,
   "metadata": {
    "scrolled": false
   },
   "outputs": [
    {
     "name": "stdout",
     "output_type": "stream",
     "text": [
      "[0.00089+/-1e-05 0.00089+/-1e-05 0.00089+/-1e-05 0.00089+/-1e-05\n",
      " 0.00178+/-1e-05 0.00178+/-1e-05 0.00178+/-1e-05 0.00178+/-1e-05\n",
      " 0.00267+/-1e-05 0.00267+/-1e-05 0.00267+/-1e-05 0.00267+/-1e-05\n",
      " 0.00356+/-1e-05 0.00356+/-1e-05 0.00356+/-1e-05 0.00356+/-1e-05]\n"
     ]
    }
   ],
   "source": [
    "s1vetor = unumpy.uarray([0.89e-3, 0.89e-3, 0.89e-3, 0.89e-3, 1.78e-3, 1.78e-3, 1.78e-3, 1.78e-3, 2.67e-3, 2.67e-3, 2.67e-3, 2.67e-3, 3.56e-3, 3.56e-3, 3.56e-3, 3.56e-3], [0.01e-3, 0.01e-3, 0.01e-3, 0.01e-3, 0.01e-3, 0.01e-3, 0.01e-3, 0.01e-3, 0.01e-3, 0.01e-3, 0.01e-3, 0.01e-3, 0.01e-3, 0.01e-3, 0.01e-3, 0.01e-3])\n",
    "print (s1vetor)"
   ]
  },
  {
   "cell_type": "code",
   "execution_count": 22,
   "metadata": {},
   "outputs": [
    {
     "name": "stdout",
     "output_type": "stream",
     "text": [
      "[3.7+/-0.00033 1.49+/-0.00033 4.18+/-0.00033 3.12+/-0.00033 6.57+/-0.00033\n",
      " 6.68+/-0.00033 3.09+/-0.00033 7.28+/-0.00033 13.52+/-0.00033\n",
      " 8.63+/-0.00033 5.44+/-0.00033 5.02+/-0.00033 12.72+/-0.00033\n",
      " 6.21+/-0.00033 6.53+/-0.00033 6.81+/-0.00033]\n"
     ]
    }
   ],
   "source": [
    "t1vetor = unumpy.uarray([3.70000, 1.49000, 4.18000, 3.12000, 6.57000, 6.68000, 3.09000, 7.28000, 13.52000, 8.63000, 5.44000, 5.02000, 12.72000, 6.21000, 6.53000, 6.81000 ], [0.00033, 0.00033, 0.00033, 0.00033, 0.00033, 0.00033, 0.00033, 0.00033, 0.00033, 0.00033, 0.00033, 0.00033, 0.00033, 0.00033, 0.00033, 0.00033])\n",
    "print (t1vetor)"
   ]
  },
  {
   "cell_type": "markdown",
   "metadata": {},
   "source": [
    "Operações aritméticas simples são feitas normal e transparentemente com lista de valores com incertezas :"
   ]
  },
  {
   "cell_type": "code",
   "execution_count": 23,
   "metadata": {},
   "outputs": [
    {
     "name": "stdout",
     "output_type": "stream",
     "text": [
      "(2.41+/-0.03)e-04\n",
      "(5.97+/-0.07)e-04\n",
      "(2.13+/-0.02)e-04\n",
      "(2.85+/-0.03)e-04\n",
      "(2.71+/-0.02)e-04\n",
      "(2.66+/-0.01)e-04\n",
      "(5.76+/-0.03)e-04\n",
      "(2.45+/-0.01)e-04\n",
      "(1.97+/-0.01)e-04\n",
      "(3.09+/-0.01)e-04\n",
      "(4.91+/-0.02)e-04\n",
      "(5.32+/-0.02)e-04\n",
      "(2.80+/-0.01)e-04\n",
      "(5.73+/-0.02)e-04\n",
      "(5.45+/-0.02)e-04\n",
      "(5.23+/-0.01)e-04\n"
     ]
    }
   ],
   "source": [
    "v1vetor = s1vetor/t1vetor\n",
    "for x in v1vetor:\n",
    "    print (\"{0:.2e}\".format(x))"
   ]
  },
  {
   "cell_type": "code",
   "execution_count": 24,
   "metadata": {},
   "outputs": [
    {
     "name": "stdout",
     "output_type": "stream",
     "text": [
      "[0.00089+/-1e-05 0.00089+/-1e-05 0.00089+/-1e-05 0.00089+/-1e-05\n",
      " 0.00178+/-1e-05 0.00178+/-1e-05 0.00178+/-1e-05 0.00178+/-1e-05\n",
      " 0.00267+/-1e-05 0.00267+/-1e-05 0.00267+/-1e-05 0.00267+/-1e-05\n",
      " 0.00356+/-1e-05 0.00356+/-1e-05 0.00356+/-1e-05 0.00356+/-1e-05]\n"
     ]
    }
   ],
   "source": [
    "s2vetor = unumpy.uarray([0.89e-3, 0.89e-3, 0.89e-3, 0.89e-3, 1.78e-3, 1.78e-3, 1.78e-3, 1.78e-3, 2.67e-3, 2.67e-3, 2.67e-3, 2.67e-3, 3.56e-3, 3.56e-3, 3.56e-3, 3.56e-3], [0.01e-3, 0.01e-3, 0.01e-3, 0.01e-3, 0.01e-3, 0.01e-3, 0.01e-3, 0.01e-3, 0.01e-3, 0.01e-3, 0.01e-3, 0.01e-3, 0.01e-3, 0.01e-3, 0.01e-3, 0.01e-3])\n",
    "print (s1vetor)"
   ]
  },
  {
   "cell_type": "code",
   "execution_count": 25,
   "metadata": {},
   "outputs": [
    {
     "name": "stdout",
     "output_type": "stream",
     "text": [
      "[2.53+/-0.00033 1.33+/-0.00033 2.05+/-0.00033 1.97+/-0.00033\n",
      " 4.68+/-0.00033 4.87+/-0.00033 2.35+/-0.00033 6.09+/-0.00033 8.2+/-0.00033\n",
      " 6.63+/-0.00033 4.77+/-0.00033 4.75+/-0.00033 7.91+/-0.00033\n",
      " 5.19+/-0.00033 5.48+/-0.00033 5.47+/-0.00033]\n"
     ]
    }
   ],
   "source": [
    "t2vetor = unumpy.uarray([2.53000, 1.33000, 2.05000, 1.97000, 4.68000, 4.87000, 2.35000, 6.09000, 8.20000, 6.63000, 4.77000, 4.75000, 7.91000, 5.19000, 5.48000, 5.47000], [0.00033, 0.00033, 0.00033, 0.00033, 0.00033, 0.00033, 0.00033, 0.00033, 0.00033, 0.00033, 0.00033, 0.00033, 0.00033, 0.00033, 0.00033, 0.00033])\n",
    "print (t2vetor)"
   ]
  },
  {
   "cell_type": "code",
   "execution_count": 26,
   "metadata": {},
   "outputs": [
    {
     "name": "stdout",
     "output_type": "stream",
     "text": [
      "(3.52+/-0.04)e-04\n",
      "(6.69+/-0.08)e-04\n",
      "(4.34+/-0.05)e-04\n",
      "(4.52+/-0.05)e-04\n",
      "(3.80+/-0.02)e-04\n",
      "(3.66+/-0.02)e-04\n",
      "(7.57+/-0.04)e-04\n",
      "(2.92+/-0.02)e-04\n",
      "(3.26+/-0.01)e-04\n",
      "(4.03+/-0.02)e-04\n",
      "(5.60+/-0.02)e-04\n",
      "(5.62+/-0.02)e-04\n",
      "(4.50+/-0.01)e-04\n",
      "(6.86+/-0.02)e-04\n",
      "(6.50+/-0.02)e-04\n",
      "(6.51+/-0.02)e-04\n"
     ]
    }
   ],
   "source": [
    "v2vetor = s2vetor/t2vetor\n",
    "for x in v2vetor:\n",
    "    print (\"{0:.2e}\".format(x))"
   ]
  },
  {
   "cell_type": "code",
   "execution_count": 27,
   "metadata": {},
   "outputs": [
    {
     "name": "stdout",
     "output_type": "stream",
     "text": [
      "[300.0+/-5.0 300.0+/-5.0 300.0+/-5.0 300.0+/-5.0 400.0+/-5.0 400.0+/-5.0\n",
      " 400.0+/-5.0 4000.0+/-5.0 500.0+/-5.0 500.0+/-5.0 500.0+/-5.0 500.0+/-5.0\n",
      " 600.0+/-5.0 600.0+/-5.0 600.0+/-5.0 600.0+/-5.0]\n"
     ]
    }
   ],
   "source": [
    "Uvetor = unumpy.uarray([300., 300., 300., 300., 400., 400., 400., 4000., 500., 500., 500., 500., 600., 600., 600., 600.], [5., 5., 5., 5., 5., 5., 5., 5., 5., 5., 5., 5., 5., 5., 5., 5.])\n",
    "print (Uvetor)"
   ]
  },
  {
   "cell_type": "markdown",
   "metadata": {},
   "source": [
    "Porém para raíz quadrada, funções trigométricas, etc, temos que usar a função do sub-módulo unumpy, i.e., \"unumpy.sqrt\" ao invés de \"sqrt\" :"
   ]
  },
  {
   "cell_type": "code",
   "execution_count": 28,
   "metadata": {},
   "outputs": [
    {
     "name": "stdout",
     "output_type": "stream",
     "text": [
      "(6.72+/-0.15)e-07\n",
      "(5.40+/-0.38)e-07\n",
      "(9.48+/-0.13)e-07\n",
      "(8.22+/-0.16)e-07\n",
      "(6.67+/-0.09)e-07\n",
      "(6.34+/-0.09)e-07\n",
      "(8.58+/-0.14)e-07\n",
      "(4.40+/-0.10)e-07\n",
      "(7.21+/-0.06)e-07\n",
      "(6.16+/-0.07)e-07\n",
      "(5.29+/-0.11)e-07\n",
      "(3.50+/-0.17)e-07\n",
      "(8.31+/-0.06)e-07\n",
      "(6.76+/-0.08)e-07\n",
      "(6.51+/-0.08)e-07\n",
      "(7.21+/-0.08)e-07\n"
     ]
    }
   ],
   "source": [
    "rvetor = C2*unumpy.sqrt(abs(v1vetor-v2vetor))\n",
    "for x in rvetor:\n",
    "    print (\"{0:.2e}\".format(x))"
   ]
  },
  {
   "cell_type": "code",
   "execution_count": 29,
   "metadata": {},
   "outputs": [
    {
     "name": "stdout",
     "output_type": "stream",
     "text": [
      "(5.69+/-0.18)e-19\n",
      "(9.78+/-0.73)e-19\n",
      "(8.77+/-0.24)e-19\n",
      "(8.66+/-0.26)e-19\n",
      "(4.65+/-0.10)e-19\n",
      "(4.30+/-0.09)e-19\n",
      "(1.23+/-0.03)e-18\n",
      "(2.53+/-0.07)e-20\n",
      "(3.24+/-0.05)e-19\n",
      "(3.76+/-0.07)e-19\n",
      "(4.77+/-0.12)e-19\n",
      "(3.29+/-0.17)e-19\n",
      "(4.34+/-0.06)e-19\n",
      "(6.09+/-0.11)e-19\n",
      "(5.56+/-0.10)e-19\n",
      "(6.05+/-0.10)e-19\n"
     ]
    }
   ],
   "source": [
    "Qvetor = C1*((v1vetor+v2vetor)/Uvetor)*unumpy.sqrt(abs(v1vetor-v2vetor))\n",
    "for x in Qvetor:\n",
    "    print (\"{0:.2e}\".format(x))"
   ]
  }
 ],
 "metadata": {
  "kernelspec": {
   "display_name": "Python 3",
   "language": "python",
   "name": "python3"
  },
  "language_info": {
   "codemirror_mode": {
    "name": "ipython",
    "version": 3
   },
   "file_extension": ".py",
   "mimetype": "text/x-python",
   "name": "python",
   "nbconvert_exporter": "python",
   "pygments_lexer": "ipython3",
   "version": "3.6.6"
  }
 },
 "nbformat": 4,
 "nbformat_minor": 1
}
